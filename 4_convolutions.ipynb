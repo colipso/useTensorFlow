{
 "cells": [
  {
   "cell_type": "markdown",
   "metadata": {
    "colab_type": "text",
    "id": "4embtkV0pNxM"
   },
   "source": [
    "Deep Learning\n",
    "=============\n",
    "\n",
    "Assignment 4\n",
    "------------\n",
    "\n",
    "Previously in `2_fullyconnected.ipynb` and `3_regularization.ipynb`, we trained fully connected networks to classify [notMNIST](http://yaroslavvb.blogspot.com/2011/09/notmnist-dataset.html) characters.\n",
    "\n",
    "The goal of this assignment is make the neural network convolutional."
   ]
  },
  {
   "cell_type": "code",
   "execution_count": 17,
   "metadata": {
    "cellView": "both",
    "colab": {
     "autoexec": {
      "startup": false,
      "wait_interval": 0
     }
    },
    "colab_type": "code",
    "collapsed": true,
    "id": "tm2CQN_Cpwj0"
   },
   "outputs": [],
   "source": [
    "# These are all the modules we'll be using later. Make sure you can import them\n",
    "# before proceeding further.\n",
    "from __future__ import print_function\n",
    "import numpy as np\n",
    "import tensorflow as tf\n",
    "from six.moves import cPickle as pickle\n",
    "from six.moves import range\n",
    "import datetime"
   ]
  },
  {
   "cell_type": "code",
   "execution_count": 2,
   "metadata": {
    "cellView": "both",
    "colab": {
     "autoexec": {
      "startup": false,
      "wait_interval": 0
     },
     "output_extras": [
      {
       "item_id": 1
      }
     ]
    },
    "colab_type": "code",
    "collapsed": false,
    "executionInfo": {
     "elapsed": 11948,
     "status": "ok",
     "timestamp": 1446658914837,
     "user": {
      "color": "",
      "displayName": "",
      "isAnonymous": false,
      "isMe": true,
      "permissionId": "",
      "photoUrl": "",
      "sessionId": "0",
      "userId": ""
     },
     "user_tz": 480
    },
    "id": "y3-cj1bpmuxc",
    "outputId": "016b1a51-0290-4b08-efdb-8c95ffc3cd01"
   },
   "outputs": [
    {
     "name": "stdout",
     "output_type": "stream",
     "text": [
      "Training set (200000, 28, 28) (200000,)\n",
      "Validation set (10000, 28, 28) (10000,)\n",
      "Test set (10000, 28, 28) (10000,)\n"
     ]
    }
   ],
   "source": [
    "pickle_file = 'notMNIST.pickle'\n",
    "\n",
    "with open(pickle_file, 'rb') as f:\n",
    "  save = pickle.load(f)\n",
    "  train_dataset = save['train_dataset']\n",
    "  train_labels = save['train_labels']\n",
    "  valid_dataset = save['valid_dataset']\n",
    "  valid_labels = save['valid_labels']\n",
    "  test_dataset = save['test_dataset']\n",
    "  test_labels = save['test_labels']\n",
    "  del save  # hint to help gc free up memory\n",
    "  print('Training set', train_dataset.shape, train_labels.shape)\n",
    "  print('Validation set', valid_dataset.shape, valid_labels.shape)\n",
    "  print('Test set', test_dataset.shape, test_labels.shape)"
   ]
  },
  {
   "cell_type": "markdown",
   "metadata": {
    "colab_type": "text",
    "id": "L7aHrm6nGDMB"
   },
   "source": [
    "Reformat into a TensorFlow-friendly shape:\n",
    "- convolutions need the image data formatted as a cube (width by height by #channels)\n",
    "- labels as float 1-hot encodings."
   ]
  },
  {
   "cell_type": "code",
   "execution_count": 8,
   "metadata": {
    "cellView": "both",
    "colab": {
     "autoexec": {
      "startup": false,
      "wait_interval": 0
     },
     "output_extras": [
      {
       "item_id": 1
      }
     ]
    },
    "colab_type": "code",
    "collapsed": false,
    "executionInfo": {
     "elapsed": 11952,
     "status": "ok",
     "timestamp": 1446658914857,
     "user": {
      "color": "",
      "displayName": "",
      "isAnonymous": false,
      "isMe": true,
      "permissionId": "",
      "photoUrl": "",
      "sessionId": "0",
      "userId": ""
     },
     "user_tz": 480
    },
    "id": "IRSyYiIIGIzS",
    "outputId": "650a208c-8359-4852-f4f5-8bf10e80ef6c"
   },
   "outputs": [
    {
     "name": "stdout",
     "output_type": "stream",
     "text": [
      "Training set (200000, 28, 28, 1) (200000, 10)\n",
      "Validation set (10000, 28, 28, 1) (10000, 10)\n",
      "Test set (10000, 28, 28, 1) (10000, 10)\n"
     ]
    }
   ],
   "source": [
    "image_size = 28\n",
    "num_labels = 10\n",
    "num_channels = 1 # grayscale\n",
    "\n",
    "import numpy as np\n",
    "\n",
    "def reformat(dataset, labels):\n",
    "  dataset = dataset.reshape(\n",
    "    (-1, image_size, image_size, num_channels)).astype(np.float32)\n",
    "  labels = (np.arange(num_labels) == labels[:,None]).astype(np.float32)\n",
    "  return dataset, labels\n",
    "train_dataset, train_labels = reformat(train_dataset, train_labels)\n",
    "valid_dataset, valid_labels = reformat(valid_dataset, valid_labels)\n",
    "test_dataset, test_labels = reformat(test_dataset, test_labels)\n",
    "print('Training set', train_dataset.shape, train_labels.shape)\n",
    "print('Validation set', valid_dataset.shape, valid_labels.shape)\n",
    "print('Test set', test_dataset.shape, test_labels.shape)"
   ]
  },
  {
   "cell_type": "code",
   "execution_count": 9,
   "metadata": {
    "cellView": "both",
    "colab": {
     "autoexec": {
      "startup": false,
      "wait_interval": 0
     }
    },
    "colab_type": "code",
    "collapsed": true,
    "id": "AgQDIREv02p1"
   },
   "outputs": [],
   "source": [
    "def accuracy(predictions, labels):\n",
    "  return (100.0 * np.sum(np.argmax(predictions, 1) == np.argmax(labels, 1))\n",
    "          / predictions.shape[0])"
   ]
  },
  {
   "cell_type": "code",
   "execution_count": 14,
   "metadata": {
    "collapsed": false
   },
   "outputs": [],
   "source": [
    "def Log(*context):\n",
    "    '''\n",
    "    for output some infomation\n",
    "    '''\n",
    "    outputlogo = \"---->\" + \"[\" + str(datetime.datetime.now()) + \"]\"\n",
    "    string_print = \"\"\n",
    "    for c in context:\n",
    "        string_print += str(c)+\"  \"\n",
    "    content = outputlogo +string_print + '\\n'\n",
    "    f = open(\"log.txt\",'a')\n",
    "    f.write(content)\n",
    "    f.close()\n",
    "    print(outputlogo,string_print,'\\n')\n",
    "    return True"
   ]
  },
  {
   "cell_type": "markdown",
   "metadata": {
    "colab_type": "text",
    "id": "5rhgjmROXu2O"
   },
   "source": [
    "Let's build a small network with two convolutional layers, followed by one fully connected layer. Convolutional networks are more expensive computationally, so we'll limit its depth and number of fully connected nodes."
   ]
  },
  {
   "cell_type": "code",
   "execution_count": 11,
   "metadata": {
    "cellView": "both",
    "colab": {
     "autoexec": {
      "startup": false,
      "wait_interval": 0
     }
    },
    "colab_type": "code",
    "collapsed": false,
    "id": "IZYv70SvvOan"
   },
   "outputs": [],
   "source": [
    "batch_size = 16\n",
    "patch_size = 5\n",
    "depth = 16\n",
    "num_hidden = 64\n",
    "\n",
    "graph = tf.Graph()\n",
    "\n",
    "with graph.as_default():\n",
    "\n",
    "  # Input data.\n",
    "  tf_train_dataset = tf.placeholder(\n",
    "    tf.float32, shape=(batch_size, image_size, image_size, num_channels))\n",
    "  tf_train_labels = tf.placeholder(tf.float32, shape=(batch_size, num_labels))\n",
    "  tf_valid_dataset = tf.constant(valid_dataset)\n",
    "  tf_test_dataset = tf.constant(test_dataset)\n",
    "  \n",
    "  # Variables.\n",
    "  layer1_weights = tf.Variable(tf.truncated_normal(\n",
    "      [patch_size, patch_size, num_channels, depth], stddev=0.1))\n",
    "  layer1_biases = tf.Variable(tf.zeros([depth]))\n",
    "  layer2_weights = tf.Variable(tf.truncated_normal(\n",
    "      [patch_size, patch_size, depth, depth], stddev=0.1))\n",
    "  layer2_biases = tf.Variable(tf.constant(1.0, shape=[depth]))\n",
    "  layer3_weights = tf.Variable(tf.truncated_normal(\n",
    "      [image_size // 4 * image_size // 4 * depth, num_hidden], stddev=0.1))\n",
    "  layer3_biases = tf.Variable(tf.constant(1.0, shape=[num_hidden]))\n",
    "  layer4_weights = tf.Variable(tf.truncated_normal(\n",
    "      [num_hidden, num_labels], stddev=0.1))\n",
    "  layer4_biases = tf.Variable(tf.constant(1.0, shape=[num_labels]))\n",
    "  \n",
    "  # Model.\n",
    "  def model(data):\n",
    "    conv = tf.nn.conv2d(data, layer1_weights, [1, 2, 2, 1], padding='SAME')\n",
    "    hidden = tf.nn.relu(conv + layer1_biases)\n",
    "    conv = tf.nn.conv2d(hidden, layer2_weights, [1, 2, 2, 1], padding='SAME')\n",
    "    hidden = tf.nn.relu(conv + layer2_biases)\n",
    "    shape = hidden.get_shape().as_list()\n",
    "    reshape = tf.reshape(hidden, [shape[0], shape[1] * shape[2] * shape[3]])\n",
    "    hidden = tf.nn.relu(tf.matmul(reshape, layer3_weights) + layer3_biases)\n",
    "    return tf.matmul(hidden, layer4_weights) + layer4_biases\n",
    "  \n",
    "  # Training computation.\n",
    "  logits = model(tf_train_dataset)\n",
    "  loss = tf.reduce_mean(\n",
    "    tf.nn.softmax_cross_entropy_with_logits(logits = logits,labels =  tf_train_labels))\n",
    "    \n",
    "  # Optimizer.\n",
    "  optimizer = tf.train.GradientDescentOptimizer(0.05).minimize(loss)\n",
    "  \n",
    "  # Predictions for the training, validation, and test data.\n",
    "  train_prediction = tf.nn.softmax(logits)\n",
    "  valid_prediction = tf.nn.softmax(model(tf_valid_dataset))\n",
    "  test_prediction = tf.nn.softmax(model(tf_test_dataset))"
   ]
  },
  {
   "cell_type": "code",
   "execution_count": 12,
   "metadata": {
    "cellView": "both",
    "colab": {
     "autoexec": {
      "startup": false,
      "wait_interval": 0
     },
     "output_extras": [
      {
       "item_id": 37
      }
     ]
    },
    "colab_type": "code",
    "collapsed": false,
    "executionInfo": {
     "elapsed": 63292,
     "status": "ok",
     "timestamp": 1446658966251,
     "user": {
      "color": "",
      "displayName": "",
      "isAnonymous": false,
      "isMe": true,
      "permissionId": "",
      "photoUrl": "",
      "sessionId": "0",
      "userId": ""
     },
     "user_tz": 480
    },
    "id": "noKFb2UovVFR",
    "outputId": "28941338-2ef9-4088-8bd1-44295661e628"
   },
   "outputs": [
    {
     "name": "stdout",
     "output_type": "stream",
     "text": [
      "WARNING:tensorflow:From <ipython-input-12-c56b394d9d7c>:4: initialize_all_variables (from tensorflow.python.ops.variables) is deprecated and will be removed after 2017-03-02.\n",
      "Instructions for updating:\n",
      "Use `tf.global_variables_initializer` instead.\n",
      "Initialized\n",
      "Minibatch loss at step 0: 4.074865\n",
      "Minibatch accuracy: 12.5%\n",
      "Validation accuracy: 10.0%\n",
      "Minibatch loss at step 50: 1.401841\n",
      "Minibatch accuracy: 50.0%\n",
      "Validation accuracy: 44.7%\n",
      "Minibatch loss at step 100: 1.217401\n",
      "Minibatch accuracy: 62.5%\n",
      "Validation accuracy: 68.6%\n",
      "Minibatch loss at step 150: 0.524671\n",
      "Minibatch accuracy: 87.5%\n",
      "Validation accuracy: 73.9%\n",
      "Minibatch loss at step 200: 0.929335\n",
      "Minibatch accuracy: 62.5%\n",
      "Validation accuracy: 75.8%\n",
      "Minibatch loss at step 250: 1.083855\n",
      "Minibatch accuracy: 75.0%\n",
      "Validation accuracy: 77.6%\n",
      "Minibatch loss at step 300: 0.621801\n",
      "Minibatch accuracy: 81.2%\n",
      "Validation accuracy: 78.2%\n",
      "Minibatch loss at step 350: 0.649878\n",
      "Minibatch accuracy: 81.2%\n",
      "Validation accuracy: 78.7%\n",
      "Minibatch loss at step 400: 0.934905\n",
      "Minibatch accuracy: 68.8%\n",
      "Validation accuracy: 79.4%\n",
      "Minibatch loss at step 450: 0.542225\n",
      "Minibatch accuracy: 87.5%\n",
      "Validation accuracy: 80.1%\n",
      "Minibatch loss at step 500: 0.573427\n",
      "Minibatch accuracy: 87.5%\n",
      "Validation accuracy: 80.9%\n",
      "Minibatch loss at step 550: 0.444163\n",
      "Minibatch accuracy: 75.0%\n",
      "Validation accuracy: 79.7%\n",
      "Minibatch loss at step 600: 0.748927\n",
      "Minibatch accuracy: 68.8%\n",
      "Validation accuracy: 81.2%\n",
      "Minibatch loss at step 650: 1.017108\n",
      "Minibatch accuracy: 68.8%\n",
      "Validation accuracy: 80.9%\n",
      "Minibatch loss at step 700: 0.901581\n",
      "Minibatch accuracy: 75.0%\n",
      "Validation accuracy: 81.8%\n",
      "Minibatch loss at step 750: 0.518018\n",
      "Minibatch accuracy: 87.5%\n",
      "Validation accuracy: 81.6%\n",
      "Minibatch loss at step 800: 0.653996\n",
      "Minibatch accuracy: 81.2%\n",
      "Validation accuracy: 82.7%\n",
      "Minibatch loss at step 850: 0.753506\n",
      "Minibatch accuracy: 75.0%\n",
      "Validation accuracy: 82.2%\n",
      "Minibatch loss at step 900: 1.020093\n",
      "Minibatch accuracy: 62.5%\n",
      "Validation accuracy: 82.6%\n",
      "Minibatch loss at step 950: 0.701484\n",
      "Minibatch accuracy: 87.5%\n",
      "Validation accuracy: 82.9%\n",
      "Minibatch loss at step 1000: 0.678426\n",
      "Minibatch accuracy: 81.2%\n",
      "Validation accuracy: 81.9%\n",
      "Test accuracy: 88.5%\n"
     ]
    }
   ],
   "source": [
    "num_steps = 1001\n",
    "\n",
    "with tf.Session(graph=graph) as session:\n",
    "  tf.initialize_all_variables().run()\n",
    "  print('Initialized')\n",
    "  for step in range(num_steps):\n",
    "    offset = (step * batch_size) % (train_labels.shape[0] - batch_size)\n",
    "    batch_data = train_dataset[offset:(offset + batch_size), :, :, :]\n",
    "    batch_labels = train_labels[offset:(offset + batch_size), :]\n",
    "    feed_dict = {tf_train_dataset : batch_data, tf_train_labels : batch_labels}\n",
    "    _, l, predictions = session.run(\n",
    "      [optimizer, loss, train_prediction], feed_dict=feed_dict)\n",
    "    if (step % 50 == 0):\n",
    "      print('Minibatch loss at step %d: %f' % (step, l))\n",
    "      print('Minibatch accuracy: %.1f%%' % accuracy(predictions, batch_labels))\n",
    "      print('Validation accuracy: %.1f%%' % accuracy(\n",
    "        valid_prediction.eval(), valid_labels))\n",
    "  print('Test accuracy: %.1f%%' % accuracy(test_prediction.eval(), test_labels))"
   ]
  },
  {
   "cell_type": "markdown",
   "metadata": {
    "colab_type": "text",
    "id": "KedKkn4EutIK"
   },
   "source": [
    "---\n",
    "Problem 1\n",
    "---------\n",
    "\n",
    "The convolutional model above uses convolutions with stride 2 to reduce the dimensionality. Replace the strides by a max pooling operation (`nn.max_pool()`) of stride 2 and kernel size 2.\n",
    "\n",
    "---"
   ]
  },
  {
   "cell_type": "code",
   "execution_count": 21,
   "metadata": {
    "collapsed": false
   },
   "outputs": [
    {
     "name": "stdout",
     "output_type": "stream",
     "text": [
      "WARNING:tensorflow:From <ipython-input-21-8a12ac26b625>:54: initialize_all_variables (from tensorflow.python.ops.variables) is deprecated and will be removed after 2017-03-02.\n",
      "Instructions for updating:\n",
      "Use `tf.global_variables_initializer` instead.\n",
      "---->[2017-03-06 11:55:49.354350] Begin CNN   \n",
      "\n",
      "---->[2017-03-06 11:55:49.601734] Minibatch loss at step 0: 5.801474   \n",
      "\n",
      "---->[2017-03-06 11:55:49.609984] Minibatch accuracy: 12.5%   \n",
      "\n",
      "---->[2017-03-06 11:55:53.528113] Validation accuracy: 10.0%   \n",
      "\n",
      "---->[2017-03-06 11:55:55.831222] Minibatch loss at step 50: 1.850518   \n",
      "\n",
      "---->[2017-03-06 11:55:55.831802] Minibatch accuracy: 31.2%   \n",
      "\n",
      "---->[2017-03-06 11:55:58.818373] Validation accuracy: 22.9%   \n",
      "\n",
      "---->[2017-03-06 11:56:00.616559] Minibatch loss at step 100: 1.583446   \n",
      "\n",
      "---->[2017-03-06 11:56:00.617176] Minibatch accuracy: 56.2%   \n",
      "\n",
      "---->[2017-03-06 11:56:03.471534] Validation accuracy: 53.7%   \n",
      "\n",
      "---->[2017-03-06 11:56:04.504037] Minibatch loss at step 150: 1.012967   \n",
      "\n",
      "---->[2017-03-06 11:56:04.504680] Minibatch accuracy: 68.8%   \n",
      "\n",
      "---->[2017-03-06 11:56:07.307341] Validation accuracy: 62.1%   \n",
      "\n",
      "---->[2017-03-06 11:56:08.324924] Minibatch loss at step 200: 1.117420   \n",
      "\n",
      "---->[2017-03-06 11:56:08.325599] Minibatch accuracy: 68.8%   \n",
      "\n",
      "---->[2017-03-06 11:56:11.164825] Validation accuracy: 72.6%   \n",
      "\n",
      "---->[2017-03-06 11:56:12.170520] Minibatch loss at step 250: 0.931203   \n",
      "\n",
      "---->[2017-03-06 11:56:12.170962] Minibatch accuracy: 68.8%   \n",
      "\n",
      "---->[2017-03-06 11:56:14.992840] Validation accuracy: 75.9%   \n",
      "\n",
      "---->[2017-03-06 11:56:16.016436] Minibatch loss at step 300: 0.634627   \n",
      "\n",
      "---->[2017-03-06 11:56:16.017109] Minibatch accuracy: 81.2%   \n",
      "\n",
      "---->[2017-03-06 11:56:18.837382] Validation accuracy: 77.6%   \n",
      "\n",
      "---->[2017-03-06 11:56:19.846405] Minibatch loss at step 350: 0.482763   \n",
      "\n",
      "---->[2017-03-06 11:56:19.846954] Minibatch accuracy: 81.2%   \n",
      "\n",
      "---->[2017-03-06 11:56:22.678833] Validation accuracy: 80.1%   \n",
      "\n",
      "---->[2017-03-06 11:56:23.710449] Minibatch loss at step 400: 0.709898   \n",
      "\n",
      "---->[2017-03-06 11:56:23.711065] Minibatch accuracy: 81.2%   \n",
      "\n",
      "---->[2017-03-06 11:56:26.515985] Validation accuracy: 81.8%   \n",
      "\n",
      "---->[2017-03-06 11:56:27.798854] Minibatch loss at step 450: 0.610460   \n",
      "\n",
      "---->[2017-03-06 11:56:27.799270] Minibatch accuracy: 81.2%   \n",
      "\n",
      "---->[2017-03-06 11:56:31.037602] Validation accuracy: 81.9%   \n",
      "\n",
      "---->[2017-03-06 11:56:32.050693] Minibatch loss at step 500: 0.639097   \n",
      "\n",
      "---->[2017-03-06 11:56:32.051306] Minibatch accuracy: 81.2%   \n",
      "\n",
      "---->[2017-03-06 11:56:34.901861] Validation accuracy: 82.3%   \n",
      "\n",
      "---->[2017-03-06 11:56:35.922259] Minibatch loss at step 550: 0.433347   \n",
      "\n",
      "---->[2017-03-06 11:56:35.922841] Minibatch accuracy: 87.5%   \n",
      "\n",
      "---->[2017-03-06 11:56:38.907379] Validation accuracy: 82.4%   \n",
      "\n",
      "---->[2017-03-06 11:56:39.921295] Minibatch loss at step 600: 0.598114   \n",
      "\n",
      "---->[2017-03-06 11:56:39.922018] Minibatch accuracy: 81.2%   \n",
      "\n",
      "---->[2017-03-06 11:56:42.760290] Validation accuracy: 82.0%   \n",
      "\n",
      "---->[2017-03-06 11:56:43.786442] Minibatch loss at step 650: 1.002078   \n",
      "\n",
      "---->[2017-03-06 11:56:43.787140] Minibatch accuracy: 75.0%   \n",
      "\n",
      "---->[2017-03-06 11:56:46.687209] Validation accuracy: 82.7%   \n",
      "\n",
      "---->[2017-03-06 11:56:47.727608] Minibatch loss at step 700: 0.808088   \n",
      "\n",
      "---->[2017-03-06 11:56:47.728205] Minibatch accuracy: 75.0%   \n",
      "\n",
      "---->[2017-03-06 11:56:50.612168] Validation accuracy: 83.2%   \n",
      "\n",
      "---->[2017-03-06 11:56:51.635146] Minibatch loss at step 750: 0.562964   \n",
      "\n",
      "---->[2017-03-06 11:56:51.635625] Minibatch accuracy: 87.5%   \n",
      "\n",
      "---->[2017-03-06 11:56:54.656718] Validation accuracy: 83.8%   \n",
      "\n",
      "---->[2017-03-06 11:56:55.676524] Minibatch loss at step 800: 0.638671   \n",
      "\n",
      "---->[2017-03-06 11:56:55.677099] Minibatch accuracy: 81.2%   \n",
      "\n",
      "---->[2017-03-06 11:56:58.532196] Validation accuracy: 84.0%   \n",
      "\n",
      "---->[2017-03-06 11:56:59.673604] Minibatch loss at step 850: 0.933428   \n",
      "\n",
      "---->[2017-03-06 11:56:59.674416] Minibatch accuracy: 56.2%   \n",
      "\n",
      "---->[2017-03-06 11:57:02.688211] Validation accuracy: 83.1%   \n",
      "\n",
      "---->[2017-03-06 11:57:03.775176] Minibatch loss at step 900: 1.024484   \n",
      "\n",
      "---->[2017-03-06 11:57:03.775843] Minibatch accuracy: 68.8%   \n",
      "\n",
      "---->[2017-03-06 11:57:06.735271] Validation accuracy: 83.9%   \n",
      "\n",
      "---->[2017-03-06 11:57:07.815435] Minibatch loss at step 950: 0.604557   \n",
      "\n",
      "---->[2017-03-06 11:57:07.816034] Minibatch accuracy: 81.2%   \n",
      "\n",
      "---->[2017-03-06 11:57:10.851874] Validation accuracy: 84.1%   \n",
      "\n",
      "---->[2017-03-06 11:57:11.892967] Minibatch loss at step 1000: 0.527496   \n",
      "\n",
      "---->[2017-03-06 11:57:11.893594] Minibatch accuracy: 81.2%   \n",
      "\n",
      "---->[2017-03-06 11:57:14.833002] Validation accuracy: 82.8%   \n",
      "\n",
      "---->[2017-03-06 11:57:17.662832] Test accuracy: 89.7%   \n",
      "\n"
     ]
    }
   ],
   "source": []
  },
  {
   "cell_type": "markdown",
   "metadata": {
    "colab_type": "text",
    "id": "klf21gpbAgb-"
   },
   "source": [
    "---\n",
    "Problem 2\n",
    "---------\n",
    "\n",
    "Try to get the best performance you can using a convolutional net. Look for example at the classic [LeNet5](http://yann.lecun.com/exdb/lenet/) architecture, adding Dropout, and/or adding learning rate decay.\n",
    "\n",
    "---"
   ]
  },
  {
   "cell_type": "code",
   "execution_count": null,
   "metadata": {
    "collapsed": true
   },
   "outputs": [],
   "source": []
  }
 ],
 "metadata": {
  "colab": {
   "default_view": {},
   "name": "4_convolutions.ipynb",
   "provenance": [],
   "version": "0.3.2",
   "views": {}
  },
  "kernelspec": {
   "display_name": "Python 2",
   "language": "python",
   "name": "python2"
  },
  "language_info": {
   "codemirror_mode": {
    "name": "ipython",
    "version": 2
   },
   "file_extension": ".py",
   "mimetype": "text/x-python",
   "name": "python",
   "nbconvert_exporter": "python",
   "pygments_lexer": "ipython2",
   "version": "2.7.13"
  }
 },
 "nbformat": 4,
 "nbformat_minor": 0
}
